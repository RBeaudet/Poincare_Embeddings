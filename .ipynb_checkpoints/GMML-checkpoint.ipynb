{
 "cells": [
  {
   "cell_type": "markdown",
   "metadata": {},
   "source": [
    "# <center> Poincaré Embeddings - Implementation </center>\n",
    "\n",
    "In this notebook, we propose a pure Numpy implementation of the Poincarré embeddings method proposed by Maximilian Nickel and Douwe Kiela.\n",
    "\n",
    "We use the WordNet dataset which enables to construct a hierarchical graph of words. The class <b>Poincarre_Embeddings</b> has the following methods :\n",
    "- <i>create_embeddings</i> to create a hierarchical dataset\n",
    "- <i>train</i> to perform the optimization process and plot the final result when setting dimension=2"
   ]
  },
  {
   "cell_type": "code",
   "execution_count": 1,
   "metadata": {},
   "outputs": [
    {
     "name": "stdout",
     "output_type": "stream",
     "text": [
      "[nltk_data] Downloading package wordnet to\n",
      "[nltk_data]     /Users/charlesdognin/nltk_data...\n",
      "[nltk_data]   Package wordnet is already up-to-date!\n"
     ]
    }
   ],
   "source": [
    "# Packages import \n",
    "\n",
    "import numpy as np\n",
    "from numpy.linalg import norm\n",
    "from math import *\n",
    "import matplotlib.pyplot as plt\n",
    "import random\n",
    "import nltk\n",
    "nltk.download('wordnet')  \n",
    "from nltk.corpus import wordnet"
   ]
  },
  {
   "cell_type": "markdown",
   "metadata": {},
   "source": [
    "## I. WordNet\n",
    "\n",
    "<i>WordNet is a large lexical database of English. Nouns, verbs, adjectives and adverbs are grouped into sets of cognitive synonyms (synsets). Synsets are interlinked by means of conceptual-semantic and lexical relations. [...] WordNet groups words together based on their meanings. [...] The main relation among words in WordNet is synonymy, as between the words shut and close or car and automobile. Synonyms--words that denote the same concept and are interchangeable in many contexts--are grouped into unordered sets (synsets).</i>"
   ]
  },
  {
   "cell_type": "code",
   "execution_count": 2,
   "metadata": {},
   "outputs": [
    {
     "name": "stdout",
     "output_type": "stream",
     "text": [
      "Synset('mammal.n.01')\n",
      "-------------------------\n",
      "The definition of mammal is : any warm-blooded vertebrate having the skin more or less covered with hair; young are born alive except for the small subclass of monotremes and nourished with milk\n"
     ]
    }
   ],
   "source": [
    "# Choose a source word for our graph, here the word \"mammal\", whose level in the graph is 0 (by default)\n",
    "\n",
    "mammal = wordnet.synset(\"mammal.n.01\")\n",
    "print(mammal)\n",
    "print('-------------------------')\n",
    "print(\"The definition of mammal is :\", mammal.definition())"
   ]
  },
  {
   "cell_type": "markdown",
   "metadata": {},
   "source": [
    "#### Hyponyms\n",
    "Hyponyms of a node, (i.e. a word in the graph) are the children of this node in the graph."
   ]
  },
  {
   "cell_type": "code",
   "execution_count": 3,
   "metadata": {},
   "outputs": [
    {
     "data": {
      "text/plain": [
       "[Synset('female_mammal.n.01'),\n",
       " Synset('fossorial_mammal.n.01'),\n",
       " Synset('metatherian.n.01'),\n",
       " Synset('placental.n.01'),\n",
       " Synset('prototherian.n.01'),\n",
       " Synset('tusker.n.01')]"
      ]
     },
     "execution_count": 3,
     "metadata": {},
     "output_type": "execute_result"
    }
   ],
   "source": [
    "# Hyponyms of the source word, i.e. its direct children in the graph\n",
    "\n",
    "mammal.hyponyms()"
   ]
  },
  {
   "cell_type": "markdown",
   "metadata": {},
   "source": [
    "## II. Words embedding"
   ]
  },
  {
   "cell_type": "markdown",
   "metadata": {},
   "source": [
    "First, we need to construct our dataset, which is done in the following way :\n",
    "- We start from a word wordnet.synset(\"word\")\n",
    "- Then we construct a dictionary representing the graph that is linked to this word, i.e. <b>{\"word\" : [list of hyponyms]}</b>\n",
    "- Then we construct a dictionary that contains the level of the words in the graph, i.e. <b>{\"word\" : level of word}</b>\n",
    "- Finally, we also construct a dictionary that contains a mapping between a word and its embedding, i.e. <b>{\"word\" : embedded vector}</b>\n",
    "\n",
    "\n",
    "Note that in the graph dictionary, a single word can be either key or value, whereas in the embeddings dictionary, each word is unique."
   ]
  },
  {
   "cell_type": "code",
   "execution_count": 47,
   "metadata": {},
   "outputs": [],
   "source": [
    "class Poincarre_Embeddings:\n",
    "    \n",
    "    def __init__(self, epochs, learning_rate, nb_negs, root_node, dimension):\n",
    "        \"\"\"\n",
    "        Object providing the embedding for words related by hypernemy relations using \n",
    "        hyperbolic geometry.\n",
    "        \n",
    "        Arguments:\n",
    "        epochs -- number of epochs/iterations\n",
    "        learning_rate -- the learning rate for update of the embedding\n",
    "        nb_negs -- number of negative samples\n",
    "        root_node -- the higher word in the hierarchy, the format must be: wordnet.synset(\"word.n.01\")\n",
    "        dimension -- the embedding dimension\n",
    "        \"\"\"\n",
    "        \n",
    "        self.epochs = epochs\n",
    "        self.learning_rate = learning_rate\n",
    "        self.nb_negs = nb_negs\n",
    "        self.root_node = root_node\n",
    "        self.dimension = dimension\n",
    "        self.seed = np.random.seed(32)\n",
    "        \n",
    "    # Sample graph as a dictionnary\n",
    "\n",
    "    def sample_graph(self, root_node, max_level=2) :\n",
    "        \"\"\"\n",
    "        Function that samples a hierarchical network from a root node and its hyponyms.\n",
    "        \n",
    "        Arguments:\n",
    "        root_node -- root node of the network\n",
    "        max_level -- (int) maximum level of the network\n",
    "        \n",
    "        Returns:\n",
    "        graph -- dictionnary representing the graph {\"node\" : [hyponyms]}\n",
    "        levels -- dictionnary representing the level of each node {\"node\" : level}\n",
    "        \"\"\"\n",
    "\n",
    "        levels, graph = {}, {}\n",
    "\n",
    "        # keep track of visited nodes\n",
    "        explored = []\n",
    "\n",
    "        # keep track of nodes to be checked\n",
    "        queue = [root_node]\n",
    "        levels[str(root_node)] = 0\n",
    "        visited = [str(root_node)]\n",
    "\n",
    "        while queue:\n",
    "\n",
    "            # take out first node from queue\n",
    "            node = queue.pop(0)  \n",
    "\n",
    "            # condition on maximum level\n",
    "            if levels[str(node)] == max_level:\n",
    "                graph[str(node)] = []\n",
    "                break;\n",
    "\n",
    "            # mark node as explored node\n",
    "            explored.append(str(node))  \n",
    "\n",
    "            # sample neighbours of node (i.e. its hyponyms)\n",
    "            neighbours = [neighbour for neighbour in node.hyponyms()]  \n",
    "            neighbours_str = [str(neighbour) for neighbour in node.hyponyms()]\n",
    "\n",
    "            # add neighbours to the graph (as children of the node)\n",
    "            graph[str(node)] = neighbours_str\n",
    "\n",
    "            # add neighbours of node to queue\n",
    "            for neighbour in neighbours :   \n",
    "                if str(neighbour) not in visited :\n",
    "                    queue.append(neighbour) \n",
    "                    visited.append(str(neighbour))\n",
    "                    levels[str(neighbour)] = levels[str(node)] + 1\n",
    "\n",
    "        return graph, levels\n",
    "    \n",
    "    def sample_embeddings(self, graph, dimension):\n",
    "        \"\"\"\n",
    "        Initializes embedded vectors of graph.\n",
    "        \n",
    "        Arguments:\n",
    "        graph -- graph containing words\n",
    "        dimension -- (int) dimension of the embedding space\n",
    "        \n",
    "        Returns:\n",
    "        embeddings -- dictionnary of the form {\"node\" : vector}\n",
    "        \"\"\"\n",
    "\n",
    "        embeddings = {}\n",
    "\n",
    "        for word in graph:\n",
    "            embeddings[word] = np.random.uniform(low=-0.05, high=0.05, size=(dimension,))\n",
    "\n",
    "        return embeddings\n",
    "    \n",
    "    def create_embeddings(self, dimension, root_node):\n",
    "        \"\"\"\n",
    "        Creates embeddings for words\n",
    "        \n",
    "        Arguments: \n",
    "        dimension -- (int) dimension of the embedding space\n",
    "        root_node -- root node of the network\n",
    "        \n",
    "        Returns:\n",
    "        graph -- dictionnary representing the graph {\"node\" : [hyponyms]}\n",
    "        embeddings -- dictionnary of the form {\"node\" : vector}\n",
    "        \"\"\"\n",
    "        \n",
    "        graph, levels = self.sample_graph(self.root_node) \n",
    "        embeddings = self.sample_embeddings(graph, self.dimension)\n",
    "        \n",
    "        return graph, embeddings\n",
    "        \n",
    "\n",
    "    def dist(self, u, v):\n",
    "        \"\"\"\n",
    "        Computes the distance for the Poincaré disk model between two vectors u and v\n",
    "\n",
    "        Arguments:\n",
    "        u -- first embedded object\n",
    "        v -- second embedded object\n",
    "\n",
    "        Returns:\n",
    "        z -- the ditance between the two objects\n",
    "        \"\"\"\n",
    "\n",
    "        norm2u = norm(u)**2\n",
    "        norm2v = norm(u)**2\n",
    "        norm2distuv = norm(u - v)**2\n",
    "        t = 1 + 2 * (norm2distuv / ((1 - norm2u) * (1 - norm2v)))\n",
    "        z = np.arccosh(t)\n",
    "        \n",
    "        return z\n",
    "\n",
    "    def pdr(self, theta, x):\n",
    "        \"\"\"\n",
    "        Computes the partial derivative w.r.t theta\n",
    "\n",
    "        Arguments:\n",
    "        theta -- embedding of the object\n",
    "        x -- vector corresponding to the embedding of another object (same dimension as theta)\n",
    "\n",
    "        Returns:\n",
    "        partial -- the derivative (same dimension as theta)  \n",
    "        \"\"\"\n",
    "\n",
    "        alpha = 1.0 - norm(theta)**2\n",
    "        assert len(alpha.shape) == 0\n",
    "        beta = 1.0 - norm(x)**2\n",
    "        assert len(beta.shape) == 0\n",
    "        gamma = 1 + (2 / (alpha * beta)) * norm(alpha - x)**2\n",
    "        assert len(gamma.shape) == 0\n",
    "        partial = 4.0 / (beta * np.sqrt(np.abs(gamma**2 - 1))) * (((norm(x) - 2 * np.dot(theta, x) + 1) / alpha**2) * theta - (x / alpha))\n",
    "\n",
    "        return partial\n",
    "\n",
    "    def proj(self, theta, epsilon=1e-5):\n",
    "        \"\"\"\n",
    "        Projection in the Poincaré disk ball\n",
    "\n",
    "        Parameters:\n",
    "        theta --  embedding of the object\n",
    "        epsilon -- scalar (for stability)\n",
    "\n",
    "        Returns:\n",
    "        theta -- after projection\n",
    "        \"\"\"\n",
    "\n",
    "        if norm(theta) >= 1:\n",
    "            theta = (theta / norm(theta)) - epsilon\n",
    "\n",
    "        return theta\n",
    "\n",
    "    def update(self, theta, grad, learning_rate):\n",
    "        \"\"\"\n",
    "        Computes the full update for a single embedding of theta\n",
    "\n",
    "        Parameters:\n",
    "        theta -- current embedding of the object\n",
    "        grad -- gradient of the loss function \n",
    "        learning_rate -- the learning rate \n",
    "\n",
    "        Returns:\n",
    "        theta -- the updated theta\n",
    "        \"\"\"\n",
    "\n",
    "        upd = (learning_rate / 4) * (1 - norm(theta)**2)**2 * grad\n",
    "        theta = self.proj(theta - upd)\n",
    "        assert theta.shape == upd.shape\n",
    "\n",
    "        return theta\n",
    "    \n",
    "    def loss(self, u, v, negative_samples):\n",
    "        \"\"\"\n",
    "        Computes the loss for a single couple of related nodes (u,v)\n",
    "\n",
    "        Arguments:\n",
    "        u -- embedding of one object\n",
    "        v -- embedding of one object\n",
    "        negative_samples -- set of negative samples for u including v\n",
    "\n",
    "        Returns:\n",
    "        loss -- the value of the loss\n",
    "        \"\"\"\n",
    "        \n",
    "        negative_distances = [np.exp(-self.dist(u, k)) for k in negative_samples]\n",
    "        loss = -self.dist(u, v) - np.log(np.sum(negative_distances))\n",
    "\n",
    "        return loss \n",
    "    \n",
    "    def pdl(self, u, negative_samples):\n",
    "        \"\"\"\n",
    "        Computes the partial derivative of the loss w.r.t d(u,v), d(u,v'), where v' is a negative example for u\n",
    "        \n",
    "        Arguments:\n",
    "        u -- embedding of one object\n",
    "        negative_samples -- list of negative samples for u\n",
    "        positive -- boolean, computes the partial derivative of the loss w.r.t d(u,v) if True\n",
    "        \n",
    "        Returns:\n",
    "        derivative -- the partial derivative (scalar or list)\n",
    "        \"\"\"\n",
    "    \n",
    "        negative_distances = [np.exp(-self.dist(u, k)) for k in negative_samples]\n",
    "        derivative = [np.exp(self.dist(u, k)) / np.sum(negative_distances) for k in negative_samples]\n",
    "\n",
    "        return derivative \n",
    "    \n",
    "    def clean_word(self, word):\n",
    "        \"\"\"\n",
    "        Word cleaning tool \n",
    "        \"\"\"\n",
    "        word = str(word).strip(\"Synset\")\n",
    "        word = word.strip(\"(\")\n",
    "        word = word.strip(\")\")\n",
    "        word = word.strip(\"'\")\n",
    "        word = word.strip(\".n.01\")\n",
    "        \n",
    "        return word\n",
    "    \n",
    "    def plot_(self, embeddings):\n",
    "        \"\"\"\n",
    "        Function that allows to plot the embedded vectors when the embedding space is 2 dimensional\n",
    "        \"\"\"        \n",
    "        fig, ax = plt.subplots();\n",
    "         \n",
    "        for word in embeddings.keys():\n",
    "            ax.scatter(embeddings[word][0], embeddings[word][1])\n",
    "        ax.scatter(embeddings[\"Synset('mammal.n.01')\"][0], embeddings[\"Synset('mammal.n.01')\"][1], c=\"red\")\n",
    "        ax.annotate(self.clean_word(\"Synset('mammal.n.01')\"), (embeddings[\"Synset('mammal.n.01')\"][0], embeddings[\"Synset('mammal.n.01')\"][1]))\n",
    "        plt.show();\n",
    "\n",
    "    def train(self):\n",
    "        \"\"\"\n",
    "        Train the embedding with gradient descent\n",
    "        \n",
    "        Returns:\n",
    "        embeddings -- the learnt and optimized embeddings\n",
    "        \"\"\"\n",
    "        \n",
    "        graph, embeddings = self.create_embeddings(self.dimension, self.root_node)\n",
    "        embeddings_temp = embeddings.copy()\n",
    "        \n",
    "        ## Select couple (u, v) and negative samples for u\n",
    "        for u in embeddings_temp:\n",
    "            if len(graph[u]) == 0:\n",
    "                continue\n",
    "            \n",
    "            # if v is a child node but is not in the embeddings dictionary, add it\n",
    "            for v in graph[u]:\n",
    "                if v not in graph.keys():\n",
    "                    graph[v] = []\n",
    "                    embeddings[v] = np.random.uniform(low=-0.05, high=0.05, size=(self.dimension,))\n",
    "                \n",
    "        for epoch in range(self.epochs):\n",
    "            \n",
    "            for u in embeddings:\n",
    "                if len(graph[u]) == 0:\n",
    "                    continue\n",
    "                    \n",
    "                # Select v among the hyponyms of u\n",
    "                v = np.random.choice(graph[u])\n",
    "            \n",
    "                # Select negative examples for u\n",
    "                negative_samples, negative_samples_words = [], []  # list of vectors/list of words\n",
    "                \n",
    "                while len(negative_samples) < self.nb_negs:\n",
    "\n",
    "                    # draw sample randomly from data\n",
    "                    negative_sample = np.random.choice(list(embeddings.keys()))\n",
    "\n",
    "                    # if the drawn sample is connected to u, discard it\n",
    "                    if negative_sample in graph[u] or u in graph[negative_sample] or negative_sample == u:\n",
    "                        continue \n",
    "\n",
    "                    negative_samples_words.append(negative_sample)\n",
    "                    negative_sample = embeddings[negative_sample]\n",
    "                    negative_samples.append(negative_sample)\n",
    "\n",
    "                ## Compute the individual loss\n",
    "                loss = self.loss(embeddings[u], embeddings[v], negative_samples)\n",
    "\n",
    "                ## Compute the partial derivatives of the loss with respect to u, v and the negative examples\n",
    "\n",
    "                # derivative of loss with respect to u\n",
    "                grad_u = -1.0 * self.pdr(embeddings[u], embeddings[v])\n",
    "\n",
    "                # derivative of loss with respect to v\n",
    "                grad_v = -1.0 * self.pdr(embeddings[v], embeddings[u])\n",
    "\n",
    "                # derivative of loss with respect to the negative examples\n",
    "                grad_negatives = []\n",
    "                grad_negatives_temp = self.pdl(embeddings[u], negative_samples)\n",
    "\n",
    "                for (negative_sample, grad_negative) in zip(negative_samples, grad_negatives_temp):\n",
    "                    gradient = grad_negative * self.pdr(negative_sample, embeddings[u])\n",
    "                    grad_negatives.append(gradient)\n",
    "\n",
    "                ## Update embeddings\n",
    "\n",
    "                # update u\n",
    "                embeddings[u] = self.update(embeddings[u], grad_u, self.learning_rate)\n",
    "\n",
    "                # update v\n",
    "                embeddings[v] = self.update(embeddings[v], grad_v, self.learning_rate)\n",
    "\n",
    "                # update negative samples\n",
    "                for (negative_sample, grad_negative, negative_sample_word) in zip(negative_samples, grad_negatives, negative_samples_words):\n",
    "                        embeddings[negative_sample_word] = self.update(negative_sample, grad_negative, self.learning_rate)\n",
    "        self.plot_(embeddings)                           \n",
    "        return embeddings        "
   ]
  },
  {
   "cell_type": "markdown",
   "metadata": {},
   "source": [
    "## III. Results\n",
    "\n",
    "We select the root node \"mammal\"."
   ]
  },
  {
   "cell_type": "code",
   "execution_count": 72,
   "metadata": {},
   "outputs": [
    {
     "data": {
      "image/png": "[encoded data removed]",
      "text/plain": [
       "<matplotlib.figure.Figure at 0x1a161325f8>"
      ]
     },
     "metadata": {},
     "output_type": "display_data"
    }
   ],
   "source": [
    "mammal = wordnet.synset(\"mammal.n.01\")\n",
    "cls = Poincarre_Embeddings(10000, 0.0008, 4, mammal, 2)\n",
    "embeddings = cls.train()"
   ]
  },
  {
   "cell_type": "code",
   "execution_count": 49,
   "metadata": {
    "scrolled": true
   },
   "outputs": [
    {
     "data": {
      "image/png": "[encoded data removed]",
      "text/plain": [
       "<matplotlib.figure.Figure at 0x1a152a3d68>"
      ]
     },
     "metadata": {},
     "output_type": "display_data"
    }
   ],
   "source": [
    "mammal = wordnet.synset(\"mammal.n.01\")\n",
    "cls = Poincarre_Embeddings(1000, 0.01, 4, mammal, 2)\n",
    "embeddings = cls.train()"
   ]
  },
  {
   "cell_type": "code",
   "execution_count": 71,
   "metadata": {},
   "outputs": [
    {
     "name": "stdout",
     "output_type": "stream",
     "text": [
      "Evolution of the embedding...\n",
      "Embedding after 1000 iterations\n"
     ]
    },
    {
     "data": {
      "image/png": "[encoded data removed]",
      "text/plain": [
       "<matplotlib.figure.Figure at 0x1a15e49080>"
      ]
     },
     "metadata": {},
     "output_type": "display_data"
    },
    {
     "name": "stdout",
     "output_type": "stream",
     "text": [
      "Embedding after 5000 iterations\n"
     ]
    },
    {
     "data": {
      "image/png": "[encoded data removed]",
      "text/plain": [
       "<matplotlib.figure.Figure at 0x1146695f8>"
      ]
     },
     "metadata": {},
     "output_type": "display_data"
    },
    {
     "name": "stdout",
     "output_type": "stream",
     "text": [
      "Embedding after 7027 iterations\n"
     ]
    },
    {
     "data": {
      "image/png": "[encoded data removed]",
      "text/plain": [
       "<matplotlib.figure.Figure at 0x1146d35f8>"
      ]
     },
     "metadata": {},
     "output_type": "display_data"
    },
    {
     "name": "stdout",
     "output_type": "stream",
     "text": [
      "Embedding after 10000 iterations\n"
     ]
    },
    {
     "data": {
      "image/png": "[encoded data removed]",
      "text/plain": [
       "<matplotlib.figure.Figure at 0x1080c1780>"
      ]
     },
     "metadata": {},
     "output_type": "display_data"
    }
   ],
   "source": [
    "## Showing the evolution of the embedding \n",
    "print(\"Evolution of the embedding...\")\n",
    "\n",
    "# After 1000 iterations\n",
    "print(\"Embedding after 1000 iterations\")\n",
    "mammal = wordnet.synset(\"mammal.n.01\")\n",
    "cls = Poincarre_Embeddings(1000, 0.001, 10, mammal, 2)\n",
    "embeddings = cls.train()\n",
    "\n",
    "print(\"Embedding after 5000 iterations\")\n",
    "# After 5000 iterations\n",
    "mammal = wordnet.synset(\"mammal.n.01\")\n",
    "cls = Poincarre_Embeddings(5000, 0.001, 10, mammal, 2)\n",
    "embeddings = cls.train()\n",
    "\n",
    "print(\"Embedding after 7027 iterations\")\n",
    "# After 7027 iterations\n",
    "mammal = wordnet.synset(\"mammal.n.01\")\n",
    "cls = Poincarre_Embeddings(7027, 0.001, 10, mammal, 2)\n",
    "embeddings = cls.train()\n",
    "\n",
    "print(\"Embedding after 10000 iterations\")\n",
    "# After 10000 iterations\n",
    "mammal = wordnet.synset(\"mammal.n.01\")\n",
    "cls = Poincarre_Embeddings(10000, 0.001, 10, mammal, 2)\n",
    "embeddings = cls.train()"
   ]
  }
 ],
 "metadata": {
  "anaconda-cloud": {},
  "kernelspec": {
   "display_name": "Python 3",
   "language": "python",
   "name": "python3"
  },
  "language_info": {
   "codemirror_mode": {
    "name": "ipython",
    "version": 3
   },
   "file_extension": ".py",
   "mimetype": "text/x-python",
   "name": "python",
   "nbconvert_exporter": "python",
   "pygments_lexer": "ipython3",
   "version": "3.6.3"
  }
 },
 "nbformat": 4,
 "nbformat_minor": 1
}

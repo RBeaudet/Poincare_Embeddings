{
 "cells": [
  {
   "cell_type": "markdown",
   "metadata": {},
   "source": [
    "# Implementation of the article on Poincarré Embeddings "
   ]
  },
  {
   "cell_type": "code",
   "execution_count": 111,
   "metadata": {},
   "outputs": [
    {
     "name": "stdout",
     "output_type": "stream",
     "text": [
      "(3929,)\n"
     ]
    }
   ],
   "source": [
    "import autograd.numpy as np\n",
    "\n",
    "def process_text(path):\n",
    "    clean_dataset = []\n",
    "    with open(path, \"r\") as f:\n",
    "        dataset = f.readlines()\n",
    "    for el in dataset:\n",
    "        clean = el[49:]\n",
    "        clean = clean[:-22]\n",
    "        clean = clean.strip(\"VIDEO:\")\n",
    "        clean = clean.strip(\"AUDIO:\")\n",
    "        clean = clean.strip(\" \")\n",
    "        clean = clean.strip(' ')\n",
    "        clean = clean.strip(\"|\")\n",
    "        clean_dataset.append(clean)\n",
    "    return np.array(clean_dataset)\n",
    "\n",
    "data = process_text(\"Health-Tweets/bbchealth.txt\")\n",
    "print(data.shape)"
   ]
  },
  {
   "cell_type": "code",
   "execution_count": 128,
   "metadata": {},
   "outputs": [],
   "source": [
    "def distance(u, v):\n",
    "    assert np.linalg.norm(u) < 1 and np.linalg.norm(v) < 1\n",
    "    norm2u = np.linalg.norm(u, ord=2)**2\n",
    "    norm2v = np.linalg.norm(u, ord=2)**2\n",
    "    norm2distuv = np.linalg.norm((u - v), ord=2)**2\n",
    "    t = 1 + 2 * (norm2distuv / ((1 - norm2u) * (1 - norm2v)))\n",
    "    return np.arccosh(t)\n",
    "\n",
    "def grad_dist(theta, x):\n",
    "    beta1 = 1 - (np.linalg.norm(x, ord=2))**2\n",
    "    alpha1 = 1 - (np.linalg.norm(theta, ord=2))**2\n",
    "    gamma1 = 1 + (2 / (alpha1 * beta1)) * (np.linalg.norm((theta - x), ord=2))**2\n",
    "    const1 = 4 / (beta1 * np.sqrt(gamma1**2 - 1))\n",
    "    grad_1 =  const1 * (((np.linalg.norm(x, ord=2))**2 - 2 * np.dot(theta, x) + 1) * (theta1 / gamma1**2) - x / alpha1)\n",
    "    beta2 = 1 - (np.linalg.norm(theta, ord=2))**2\n",
    "    alpha2 = 1 - (np.linalg.norm(x, ord=2))**2\n",
    "    gamma2 = 1 + (2 / (alpha2 * beta2)) * (np.linalg.norm((theta - x), ord=2))**2\n",
    "    const2 = 4 / (beta2 * np.sqrt(gamma2**2 - 1))\n",
    "    grad_2 =  const2 * (((np.linalg.norm(theta, ord=2))**2 - 2 * np.dot(theta, x) + 1) * (theta2 / gamma2**2) - x / alpha2)\n",
    "    grad = [grad_1, grad_2]\n",
    "    return grad\n",
    "\n",
    "def rsgd(theta, stepsize=0.001, n_iter=100):\n",
    "    for itr in range(n_iter):\n",
    "        i = np.random.randint(0, x_train.shape[0])\n",
    "        const = ((1 - np.linalg.norm(theta)**2)**2 / 4)\n",
    "        theta = projection(theta - stepsize * const * grad_dist(theta, i))\n",
    "        \n",
    "def projection(theta, epsilon=1e-5):\n",
    "    norm_theta = np.linalg.norm(theta, ord=2)\n",
    "    if norm_theta >= 1:\n",
    "        return (theta / norm_theta) - epsilon\n",
    "    else:\n",
    "        return theta\n",
    "    "
   ]
  },
  {
   "cell_type": "code",
   "execution_count": null,
   "metadata": {},
   "outputs": [],
   "source": []
  }
 ],
 "metadata": {
  "kernelspec": {
   "display_name": "Python 3",
   "language": "python",
   "name": "python3"
  },
  "language_info": {
   "codemirror_mode": {
    "name": "ipython",
    "version": 3
   },
   "file_extension": ".py",
   "mimetype": "text/x-python",
   "name": "python",
   "nbconvert_exporter": "python",
   "pygments_lexer": "ipython3",
   "version": "3.6.3"
  }
 },
 "nbformat": 4,
 "nbformat_minor": 2
}

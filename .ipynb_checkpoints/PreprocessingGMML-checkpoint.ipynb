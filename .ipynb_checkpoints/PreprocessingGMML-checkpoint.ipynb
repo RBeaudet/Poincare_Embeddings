{
 "cells": [
  {
   "cell_type": "markdown",
   "metadata": {},
   "source": [
    "# <center> Pre-processing </center>\n",
    "\n",
    "But : \n",
    "- Partir d'un mot wordnet.synset(\"mot\")\n",
    "- Construire un dictionnaire représentant le graphe lié à ce mot, du type {\"mot\" : [liste des hyponymes]}\n",
    "- Construire un dictionnaire du type {\"mot\" : niveau du mot}\n",
    "- Construire un dictionnaire des mots embedded du type {\"mot\" : vecteur}\n",
    "\n",
    "Dans le dictionnaire représentant le graphe, un même mot peut être clé ou valeur.\n",
    "Dans le dictionnaire des mots embedded, chaque mot est unique."
   ]
  },
  {
   "cell_type": "code",
   "execution_count": 1,
   "metadata": {},
   "outputs": [
    {
     "name": "stdout",
     "output_type": "stream",
     "text": [
      "[nltk_data] Downloading package wordnet to\n",
      "[nltk_data]     C:\\Users\\robin\\AppData\\Roaming\\nltk_data...\n",
      "[nltk_data]   Package wordnet is already up-to-date!\n"
     ]
    }
   ],
   "source": [
    "import numpy as np\n",
    "from math import *\n",
    "import random\n",
    "\n",
    "import nltk\n",
    "nltk.download('wordnet')  # in order to have access to wordnet\n",
    "from nltk.corpus import wordnet"
   ]
  },
  {
   "cell_type": "code",
   "execution_count": 4,
   "metadata": {},
   "outputs": [
    {
     "name": "stdout",
     "output_type": "stream",
     "text": [
      "any warm-blooded vertebrate having the skin more or less covered with hair; young are born alive except for the small subclass of monotremes and nourished with milk\n",
      "-------------------------\n",
      "Synset('mammal.n.01')\n"
     ]
    }
   ],
   "source": [
    "# Choose a source word for our graph, here the word \"mammal\", whose level in the graph is 0 (by default)\n",
    "\n",
    "mammal = wordnet.synset(\"mammal.n.01\")\n",
    "print(mammal.definition())  # definition of \"mammal\"\n",
    "print('-------------------------')\n",
    "print(mammal)"
   ]
  },
  {
   "cell_type": "code",
   "execution_count": 5,
   "metadata": {},
   "outputs": [
    {
     "data": {
      "text/plain": [
       "[Synset('female_mammal.n.01'),\n",
       " Synset('fossorial_mammal.n.01'),\n",
       " Synset('metatherian.n.01'),\n",
       " Synset('placental.n.01'),\n",
       " Synset('prototherian.n.01'),\n",
       " Synset('tusker.n.01')]"
      ]
     },
     "execution_count": 5,
     "metadata": {},
     "output_type": "execute_result"
    }
   ],
   "source": [
    "# Hyponyms of the source word, i.e. its direct children in the graph\n",
    "mammal.hyponyms()"
   ]
  },
  {
   "cell_type": "code",
   "execution_count": 6,
   "metadata": {
    "collapsed": true
   },
   "outputs": [],
   "source": [
    "# words network\n",
    "graph = {}\n",
    "\n",
    "# levels of nodes\n",
    "levels = {}"
   ]
  },
  {
   "cell_type": "markdown",
   "metadata": {},
   "source": [
    "## Sample graph"
   ]
  },
  {
   "cell_type": "code",
   "execution_count": 7,
   "metadata": {
    "collapsed": true
   },
   "outputs": [],
   "source": [
    "# Sample graph as a dictionnary\n",
    "\n",
    "def sample_graph(root_node, max_level = 4) :\n",
    "    \"\"\"\n",
    "    Function that samples a hierarchical network from a root node and its hyponyms.\n",
    "    :param root_node: root node of the network\n",
    "    :param max_level: (int) maximum level of the network\n",
    "    :return graph: dictionnary representing the graph {\"node\" : [hyponyms]}\n",
    "    :return levels: dictionnary representing the level of each node {\"node\" : level}\n",
    "    \"\"\"\n",
    "    \n",
    "    # keep track of visited nodes\n",
    "    explored = []\n",
    "    \n",
    "    # keep track of nodes to be checked\n",
    "    queue = [root_node]\n",
    "    \n",
    "    levels = {}\n",
    "    levels[root_node] = 0\n",
    "    \n",
    "    visited = [root_node]\n",
    "    \n",
    "    while queue:\n",
    "        \n",
    "        # take out first node from queue\n",
    "        node = queue.pop(0)\n",
    "        \n",
    "        # condition on maximum level\n",
    "        if levels[node] == max_level :\n",
    "            graphe[node] = []\n",
    "            return\n",
    "        \n",
    "        # mark node as explored node\n",
    "        explored.append(node)\n",
    "        \n",
    "        # sample neighbours of node (i.e. its hyponyms)\n",
    "        neighbours = [neighbour for neighbour in node.hyponyms()]\n",
    "        \n",
    "        # add neighbours to the graph (as children of the node)\n",
    "        graph[node] = neighbours\n",
    "        \n",
    "        # add neighbours of node to queue\n",
    "        for neighbour in neighbours :\n",
    "            if neighbour not in visited :\n",
    "                queue.append(neighbour)\n",
    "                visited.append(neighbour)\n",
    "\n",
    "                levels[neighbour] = levels[node] + 1\n",
    "\n",
    "    print(levels)\n",
    "\n",
    "    return graph, levels"
   ]
  },
  {
   "cell_type": "markdown",
   "metadata": {},
   "source": [
    "## Sample embedded words"
   ]
  },
  {
   "cell_type": "code",
   "execution_count": 8,
   "metadata": {
    "collapsed": true
   },
   "outputs": [],
   "source": [
    "# Initialize embedded words\n",
    "\n",
    "def sample_embeddings(graph, dimension):\n",
    "    \"\"\"\n",
    "    Initializes embedded vectors of graph.\n",
    "    :param graph: graph containing words\n",
    "    :param dimension: (int) dimension of the embedding space\n",
    "    :return embeddings: dictionnary of the form {\"node\" : vector}\n",
    "    \"\"\"\n",
    "    \n",
    "    embeddings = {}\n",
    "    \n",
    "    for node in graph:\n",
    "        embeddings[node] = np.random.uniform(low=-0.001, high=0.001, size=(dimension,))\n",
    "        \n",
    "    return embeddings"
   ]
  },
  {
   "cell_type": "code",
   "execution_count": null,
   "metadata": {
    "collapsed": true
   },
   "outputs": [],
   "source": [
    "# Vocabulary\n",
    "\n",
    "data = list(embeddings.keys())\n",
    "random.shuffle(data)"
   ]
  },
  {
   "cell_type": "markdown",
   "metadata": {},
   "source": [
    "## Plots"
   ]
  },
  {
   "cell_type": "code",
   "execution_count": null,
   "metadata": {
    "collapsed": true
   },
   "outputs": [],
   "source": [
    "# Plotting function when a 2 dimensional embedding space is used\n",
    "\n",
    "from matplotlib import pyplot as plt\n",
    "\n",
    "def plot_graph_2D(embeddings):\n",
    "    \"\"\"\n",
    "    Function that allows to plot the embedded vectors when the embedding space is 2 dimensional\n",
    "    \"\"\"\n",
    "    \n",
    "    fig = plt.figure()\n",
    "    \n",
    "    # plot all the nodes\n",
    "    for word in embeddings:\n",
    "        plt.plot(embeddings[word][0], embeddings[word][1])\n",
    "    \n",
    "    plt.show()"
   ]
  }
 ],
 "metadata": {
  "anaconda-cloud": {},
  "kernelspec": {
   "display_name": "Python 3",
   "language": "python",
   "name": "python3"
  },
  "language_info": {
   "codemirror_mode": {
    "name": "ipython",
    "version": 3
   },
   "file_extension": ".py",
   "mimetype": "text/x-python",
   "name": "python",
   "nbconvert_exporter": "python",
   "pygments_lexer": "ipython3",
   "version": "3.6.3"
  }
 },
 "nbformat": 4,
 "nbformat_minor": 1
}
